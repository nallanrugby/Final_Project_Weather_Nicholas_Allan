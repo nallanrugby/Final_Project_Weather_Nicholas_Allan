{
 "cells": [
  {
   "cell_type": "markdown",
   "metadata": {},
   "source": [
    "# Final project raw code "
   ]
  },
  {
   "cell_type": "code",
   "execution_count": 1,
   "metadata": {
    "collapsed": true
   },
   "outputs": [],
   "source": [
    "#import the python library \n",
    "import pandas as pd \n",
    "import numpy as np\n",
    "import matplotlib.pyplot as plt\n",
    "import matplotlib.mlab as mlab\n",
    "%matplotlib inline\n",
    "\n",
    "#versions of \n",
    "\n",
    "#stats lybraries\n",
    "import statsmodels.api as sm \n",
    "import scipy\n",
    "\n",
    "#here i set limits on what i allow the phyton to show in tables\n",
    "from pandas import set_option\n",
    "set_option('display.max_rows',8) \n",
    "#limits rows show in tablle by 10(above). change this number if you want more or less rows visible"
   ]
  },
  {
   "cell_type": "markdown",
   "metadata": {},
   "source": [
    "## Data import and setting of the colunms names "
   ]
  },
  {
   "cell_type": "code",
   "execution_count": 2,
   "metadata": {
    "collapsed": false
   },
   "outputs": [
    {
     "data": {
      "text/html": [
       "<div>\n",
       "<table border=\"1\" class=\"dataframe\">\n",
       "  <thead>\n",
       "    <tr style=\"text-align: right;\">\n",
       "      <th></th>\n",
       "      <th>num_test</th>\n",
       "      <th>Rainfall(mm)</th>\n",
       "      <th>temperature(C)</th>\n",
       "      <th>relative_humidity(%)</th>\n",
       "      <th>wind_direction</th>\n",
       "      <th>wind_speed(m/s)</th>\n",
       "      <th>gust_speed(m/s)</th>\n",
       "    </tr>\n",
       "    <tr>\n",
       "      <th>Date_Time</th>\n",
       "      <th></th>\n",
       "      <th></th>\n",
       "      <th></th>\n",
       "      <th></th>\n",
       "      <th></th>\n",
       "      <th></th>\n",
       "      <th></th>\n",
       "    </tr>\n",
       "  </thead>\n",
       "  <tbody>\n",
       "    <tr>\n",
       "      <th>2015-09-23 09:04:59</th>\n",
       "      <td>1</td>\n",
       "      <td>NaN</td>\n",
       "      <td>12.243</td>\n",
       "      <td>84.6</td>\n",
       "      <td>64.6</td>\n",
       "      <td>0.76</td>\n",
       "      <td>6.30</td>\n",
       "    </tr>\n",
       "    <tr>\n",
       "      <th>2015-09-23 09:19:59</th>\n",
       "      <td>2</td>\n",
       "      <td>0.0</td>\n",
       "      <td>12.316</td>\n",
       "      <td>84.4</td>\n",
       "      <td>92.7</td>\n",
       "      <td>0.00</td>\n",
       "      <td>0.76</td>\n",
       "    </tr>\n",
       "    <tr>\n",
       "      <th>2015-09-23 09:34:59</th>\n",
       "      <td>3</td>\n",
       "      <td>0.0</td>\n",
       "      <td>12.340</td>\n",
       "      <td>84.7</td>\n",
       "      <td>1.4</td>\n",
       "      <td>0.00</td>\n",
       "      <td>1.51</td>\n",
       "    </tr>\n",
       "    <tr>\n",
       "      <th>2015-09-23 09:49:59</th>\n",
       "      <td>4</td>\n",
       "      <td>0.0</td>\n",
       "      <td>12.074</td>\n",
       "      <td>84.6</td>\n",
       "      <td>7.0</td>\n",
       "      <td>0.00</td>\n",
       "      <td>1.26</td>\n",
       "    </tr>\n",
       "    <tr>\n",
       "      <th>...</th>\n",
       "      <td>...</td>\n",
       "      <td>...</td>\n",
       "      <td>...</td>\n",
       "      <td>...</td>\n",
       "      <td>...</td>\n",
       "      <td>...</td>\n",
       "      <td>...</td>\n",
       "    </tr>\n",
       "    <tr>\n",
       "      <th>2015-10-31 13:19:59</th>\n",
       "      <td>3666</td>\n",
       "      <td>0.2</td>\n",
       "      <td>12.654</td>\n",
       "      <td>94.5</td>\n",
       "      <td>99.7</td>\n",
       "      <td>0.00</td>\n",
       "      <td>1.51</td>\n",
       "    </tr>\n",
       "    <tr>\n",
       "      <th>2015-10-31 13:34:59</th>\n",
       "      <td>3667</td>\n",
       "      <td>0.0</td>\n",
       "      <td>12.122</td>\n",
       "      <td>97.9</td>\n",
       "      <td>233.1</td>\n",
       "      <td>0.00</td>\n",
       "      <td>1.76</td>\n",
       "    </tr>\n",
       "    <tr>\n",
       "      <th>2015-10-31 13:49:59</th>\n",
       "      <td>3668</td>\n",
       "      <td>0.2</td>\n",
       "      <td>11.880</td>\n",
       "      <td>98.2</td>\n",
       "      <td>203.6</td>\n",
       "      <td>0.00</td>\n",
       "      <td>2.52</td>\n",
       "    </tr>\n",
       "    <tr>\n",
       "      <th>2015-10-31 14:04:59</th>\n",
       "      <td>3669</td>\n",
       "      <td>0.4</td>\n",
       "      <td>11.734</td>\n",
       "      <td>98.1</td>\n",
       "      <td>140.4</td>\n",
       "      <td>0.00</td>\n",
       "      <td>0.50</td>\n",
       "    </tr>\n",
       "  </tbody>\n",
       "</table>\n",
       "<p>3669 rows × 7 columns</p>\n",
       "</div>"
      ],
      "text/plain": [
       "                     num_test  Rainfall(mm)  temperature(C)  \\\n",
       "Date_Time                                                     \n",
       "2015-09-23 09:04:59         1           NaN          12.243   \n",
       "2015-09-23 09:19:59         2           0.0          12.316   \n",
       "2015-09-23 09:34:59         3           0.0          12.340   \n",
       "2015-09-23 09:49:59         4           0.0          12.074   \n",
       "...                       ...           ...             ...   \n",
       "2015-10-31 13:19:59      3666           0.2          12.654   \n",
       "2015-10-31 13:34:59      3667           0.0          12.122   \n",
       "2015-10-31 13:49:59      3668           0.2          11.880   \n",
       "2015-10-31 14:04:59      3669           0.4          11.734   \n",
       "\n",
       "                     relative_humidity(%)  wind_direction  wind_speed(m/s)  \\\n",
       "Date_Time                                                                    \n",
       "2015-09-23 09:04:59                  84.6            64.6             0.76   \n",
       "2015-09-23 09:19:59                  84.4            92.7             0.00   \n",
       "2015-09-23 09:34:59                  84.7             1.4             0.00   \n",
       "2015-09-23 09:49:59                  84.6             7.0             0.00   \n",
       "...                                   ...             ...              ...   \n",
       "2015-10-31 13:19:59                  94.5            99.7             0.00   \n",
       "2015-10-31 13:34:59                  97.9           233.1             0.00   \n",
       "2015-10-31 13:49:59                  98.2           203.6             0.00   \n",
       "2015-10-31 14:04:59                  98.1           140.4             0.00   \n",
       "\n",
       "                     gust_speed(m/s)  \n",
       "Date_Time                             \n",
       "2015-09-23 09:04:59             6.30  \n",
       "2015-09-23 09:19:59             0.76  \n",
       "2015-09-23 09:34:59             1.51  \n",
       "2015-09-23 09:49:59             1.26  \n",
       "...                              ...  \n",
       "2015-10-31 13:19:59             1.51  \n",
       "2015-10-31 13:34:59             1.76  \n",
       "2015-10-31 13:49:59             2.52  \n",
       "2015-10-31 14:04:59             0.50  \n",
       "\n",
       "[3669 rows x 7 columns]"
      ]
     },
     "execution_count": 2,
     "metadata": {},
     "output_type": "execute_result"
    }
   ],
   "source": [
    "#import weather data to python. \n",
    "weather_data_quest = pd.read_csv('..//data/QuestU_Remote_Weather_Station_oct312015.csv',index_col='Date_Time')\n",
    "\n",
    "#assigning columns names \n",
    "weather_data_quest.columns=[['num_test','Rainfall(mm)','temperature(C)','relative_humidity(%)','wind_direction','wind_speed(m/s)','gust_speed(m/s)']]\n",
    "\n",
    "# making my my index veiwed as a date time subject not a string. \n",
    "weather_data_quest.index = pd.to_datetime(weather_data_quest.index)\n",
    "\n",
    "#show what the table of weather_data_quest looks like. \n",
    "weather_data_quest"
   ]
  },
  {
   "cell_type": "markdown",
   "metadata": {},
   "source": [
    "   #### check what type of data working with"
   ]
  },
  {
   "cell_type": "code",
   "execution_count": 3,
   "metadata": {
    "collapsed": false
   },
   "outputs": [
    {
     "data": {
      "text/plain": [
       "num_test                  int64\n",
       "Rainfall(mm)            float64\n",
       "temperature(C)          float64\n",
       "relative_humidity(%)    float64\n",
       "wind_direction          float64\n",
       "wind_speed(m/s)         float64\n",
       "gust_speed(m/s)         float64\n",
       "dtype: object"
      ]
     },
     "execution_count": 3,
     "metadata": {},
     "output_type": "execute_result"
    }
   ],
   "source": [
    "weather_data_quest.dtypes"
   ]
  },
  {
   "cell_type": "markdown",
   "metadata": {
    "collapsed": true
   },
   "source": [
    "## Visualizing data in the froms of graphs"
   ]
  },
  {
   "cell_type": "markdown",
   "metadata": {},
   "source": [
    "__Comment: It appears to be that you have multiple plots created from the following lines (\"Wind Speed trend\" and \"Gust Speed trend\"). If so, separating them into different line boxes or just having a clear markdown explaining what each plot shows and what questions it answers, would be helpful in using parts of your script separately, fixing bugs (should there be some), etc. The figures themselves can be added together later. Just general practice tip as a reader! __"
   ]
  },
  {
   "cell_type": "code",
   "execution_count": 4,
   "metadata": {
    "collapsed": false
   },
   "outputs": [
    {
     "data": {
      "image/png": "[encoded data removed]",
      "text/plain": [
       "<matplotlib.figure.Figure at 0x10762d940>"
      ]
     },
     "metadata": {},
     "output_type": "display_data"
    }
   ],
   "source": [
    "plt.figure(figsize=(15,5))\n",
    "\n",
    "# define subplot 1 \n",
    "plt.subplot(1,2,1)\n",
    "plt.plot(weather_data_quest['wind_speed(m/s)'], marker='o', color='m', linestyle='')\n",
    "\n",
    "#add title\n",
    "plt.title('Wind Speed trend')\n",
    "\n",
    "#add gridlines\n",
    "plt.grid(True)\n",
    "\n",
    "#add axis lables \n",
    "plt.ylabel ('Speed(m/s)')\n",
    "plt.xlabel ('Test(7mins)')\n",
    "\n",
    "#modify x axis limits\n",
    "\n",
    "plt.xlim(-1,)\n",
    "plt.ylim(-.1,)\n",
    "\n",
    "\n",
    "# define subplot 2\n",
    "plt.subplot(1,2,2)\n",
    "plt.plot(weather_data_quest['gust_speed(m/s)'], marker='o', color='r',linestyle='' )\n",
    "\n",
    "#add title\n",
    "plt.title('Gust Speed trend')\n",
    "\n",
    "#add gridlines\n",
    "plt.grid(True)\n",
    "\n",
    "#add axis lables \n",
    "plt.ylabel ('Speed(m/s)')\n",
    "plt.xlabel ('Test(7mins)')\n",
    "\n",
    "#modify x axis limits\n",
    "\n",
    "plt.xlim(-.1,)\n",
    "plt.ylim(-.25,)\n",
    "\n",
    "#gice plots some breathing room\n",
    "plt.tight_layout()\n",
    "\n",
    "#show plot \n",
    "plt.show()"
   ]
  },
  {
   "cell_type": "markdown",
   "metadata": {},
   "source": [
    "__Comment: could you a bit more clearly label what the x-axis is in the Gust Speed trend plot? It's a bit unclear whether these are test numbers /7mins, or what the time aspect is of this.__"
   ]
  },
  {
   "cell_type": "code",
   "execution_count": 5,
   "metadata": {
    "collapsed": false
   },
   "outputs": [
    {
     "data": {
      "image/png": "[encoded data removed]",
      "text/plain": [
       "<matplotlib.figure.Figure at 0x112f506d8>"
      ]
     },
     "metadata": {},
     "output_type": "display_data"
    }
   ],
   "source": [
    "# here is a graph that shows wind speed vs gust speed. \n",
    "plt.plot(weather_data_quest['wind_speed(m/s)'], weather_data_quest['gust_speed(m/s)'], linestyle='' , marker='o')\n",
    "\n",
    "#adding labels to the graph \n",
    "plt.xlabel('Wind Speed')\n",
    "plt.ylabel('Gust speed')\n",
    "plt.title('wind vs gust speed')\n",
    "\n",
    "#showing the graph. \n",
    "plt.show()"
   ]
  },
  {
   "cell_type": "markdown",
   "metadata": {},
   "source": [
    "## Statistical code \n",
    "\n",
    "weird problem happening with my variables not showing up when ran. its happening for wind_speed(m.s) and for temperature(C) "
   ]
  },
  {
   "cell_type": "markdown",
   "metadata": {},
   "source": [
    "__Comment: What are you trying to find out by running stats test? Each test, and operation with code, should have a purpose of answering a question (an \"English\" question, about the science of your project). Starting with a question and/or goal for each part of your script will help you choose the best tests and help you create meaningful answers for your future analysis and writeup of your scientific/computational study.___\n",
    "\n",
    "__Using Tiffany's flow chart for what kind of stats test to use may help. Which data are you trying to compare statistically? Say so in a markdown for the reader.__\n",
    "\n",
    "__Below I tried editing your inputs for the stats test. I tried a few syntax arrangements, each with a different error message returned. This one talks about the set output...I'm not sure what's happening with that.__"
   ]
  },
  {
   "cell_type": "markdown",
   "metadata": {},
   "source": [
    "## Nico - its the brackets in your columns that are throwing the errors. Remove them and your regression will work!"
   ]
  },
  {
   "cell_type": "code",
   "execution_count": 13,
   "metadata": {
    "collapsed": false
   },
   "outputs": [
    {
     "data": {
      "text/html": [
       "<div>\n",
       "<table border=\"1\" class=\"dataframe\">\n",
       "  <thead>\n",
       "    <tr style=\"text-align: right;\">\n",
       "      <th></th>\n",
       "      <th>num_test</th>\n",
       "      <th>Rainfall</th>\n",
       "      <th>temperature</th>\n",
       "      <th>relative_humidity</th>\n",
       "      <th>wind_direction</th>\n",
       "      <th>wind_speed</th>\n",
       "      <th>gust_speed</th>\n",
       "    </tr>\n",
       "    <tr>\n",
       "      <th>Date_Time</th>\n",
       "      <th></th>\n",
       "      <th></th>\n",
       "      <th></th>\n",
       "      <th></th>\n",
       "      <th></th>\n",
       "      <th></th>\n",
       "      <th></th>\n",
       "    </tr>\n",
       "  </thead>\n",
       "  <tbody>\n",
       "    <tr>\n",
       "      <th>2015-09-23 09:04:59</th>\n",
       "      <td>1</td>\n",
       "      <td>NaN</td>\n",
       "      <td>12.243</td>\n",
       "      <td>84.6</td>\n",
       "      <td>64.6</td>\n",
       "      <td>0.76</td>\n",
       "      <td>6.30</td>\n",
       "    </tr>\n",
       "    <tr>\n",
       "      <th>2015-09-23 09:19:59</th>\n",
       "      <td>2</td>\n",
       "      <td>0</td>\n",
       "      <td>12.316</td>\n",
       "      <td>84.4</td>\n",
       "      <td>92.7</td>\n",
       "      <td>0.00</td>\n",
       "      <td>0.76</td>\n",
       "    </tr>\n",
       "    <tr>\n",
       "      <th>2015-09-23 09:34:59</th>\n",
       "      <td>3</td>\n",
       "      <td>0</td>\n",
       "      <td>12.340</td>\n",
       "      <td>84.7</td>\n",
       "      <td>1.4</td>\n",
       "      <td>0.00</td>\n",
       "      <td>1.51</td>\n",
       "    </tr>\n",
       "    <tr>\n",
       "      <th>2015-09-23 09:49:59</th>\n",
       "      <td>4</td>\n",
       "      <td>0</td>\n",
       "      <td>12.074</td>\n",
       "      <td>84.6</td>\n",
       "      <td>7.0</td>\n",
       "      <td>0.00</td>\n",
       "      <td>1.26</td>\n",
       "    </tr>\n",
       "    <tr>\n",
       "      <th>2015-09-23 10:04:59</th>\n",
       "      <td>5</td>\n",
       "      <td>0</td>\n",
       "      <td>12.413</td>\n",
       "      <td>86.3</td>\n",
       "      <td>325.7</td>\n",
       "      <td>0.00</td>\n",
       "      <td>1.26</td>\n",
       "    </tr>\n",
       "  </tbody>\n",
       "</table>\n",
       "</div>"
      ],
      "text/plain": [
       "                     num_test  Rainfall  temperature  relative_humidity  \\\n",
       "Date_Time                                                                 \n",
       "2015-09-23 09:04:59         1       NaN       12.243               84.6   \n",
       "2015-09-23 09:19:59         2         0       12.316               84.4   \n",
       "2015-09-23 09:34:59         3         0       12.340               84.7   \n",
       "2015-09-23 09:49:59         4         0       12.074               84.6   \n",
       "2015-09-23 10:04:59         5         0       12.413               86.3   \n",
       "\n",
       "                     wind_direction  wind_speed  gust_speed  \n",
       "Date_Time                                                    \n",
       "2015-09-23 09:04:59            64.6        0.76        6.30  \n",
       "2015-09-23 09:19:59            92.7        0.00        0.76  \n",
       "2015-09-23 09:34:59             1.4        0.00        1.51  \n",
       "2015-09-23 09:49:59             7.0        0.00        1.26  \n",
       "2015-09-23 10:04:59           325.7        0.00        1.26  "
      ]
     },
     "execution_count": 13,
     "metadata": {},
     "output_type": "execute_result"
    }
   ],
   "source": [
    "# rename columns \n",
    "weather_data_quest_new_col_names = weather_data_quest\n",
    "weather_data_quest_new_col_names.columns = ['num_test','Rainfall','temperature','relative_humidity','wind_direction','wind_speed','gust_speed']\n",
    "weather_data_quest_new_col_names.head()"
   ]
  },
  {
   "cell_type": "code",
   "execution_count": 14,
   "metadata": {
    "collapsed": false
   },
   "outputs": [],
   "source": [
    "lm = sm.formula.ols(formula='gust_speed ~ wind_speed', data= weather_data_quest ).fit()\n"
   ]
  },
  {
   "cell_type": "code",
   "execution_count": 15,
   "metadata": {
    "collapsed": false
   },
   "outputs": [
    {
     "data": {
      "text/plain": [
       "Intercept     0.696602\n",
       "wind_speed    3.745481\n",
       "dtype: float64"
      ]
     },
     "execution_count": 15,
     "metadata": {},
     "output_type": "execute_result"
    }
   ],
   "source": [
    "lm.params #What is \"lm\" you are using here (in your code lines you wrote below)?"
   ]
  },
  {
   "cell_type": "code",
   "execution_count": 16,
   "metadata": {
    "collapsed": false
   },
   "outputs": [
    {
     "data": {
      "text/plain": [
       "Intercept     0.696602\n",
       "wind_speed    3.745481\n",
       "dtype: float64"
      ]
     },
     "execution_count": 16,
     "metadata": {},
     "output_type": "execute_result"
    }
   ],
   "source": [
    "lm = sm.formula.ols(formula='gust_speed~wind_speed', data= weather_data_quest ).fit()\n",
    "lm.params"
   ]
  },
  {
   "cell_type": "code",
   "execution_count": 17,
   "metadata": {
    "collapsed": false
   },
   "outputs": [
    {
     "data": {
      "text/html": [
       "<div>\n",
       "<table border=\"1\" class=\"dataframe\">\n",
       "  <thead>\n",
       "    <tr style=\"text-align: right;\">\n",
       "      <th></th>\n",
       "      <th>wind_speed</th>\n",
       "    </tr>\n",
       "  </thead>\n",
       "  <tbody>\n",
       "    <tr>\n",
       "      <th>0</th>\n",
       "      <td>0</td>\n",
       "    </tr>\n",
       "    <tr>\n",
       "      <th>1</th>\n",
       "      <td>1</td>\n",
       "    </tr>\n",
       "    <tr>\n",
       "      <th>2</th>\n",
       "      <td>2</td>\n",
       "    </tr>\n",
       "  </tbody>\n",
       "</table>\n",
       "</div>"
      ],
      "text/plain": [
       "   wind_speed\n",
       "0           0\n",
       "1           1\n",
       "2           2"
      ]
     },
     "execution_count": 17,
     "metadata": {},
     "output_type": "execute_result"
    }
   ],
   "source": [
    "x = pd.DataFrame({'wind_speed': range(0,3)})\n",
    "x \n",
    "\n",
    "#What exactly are you printing here?"
   ]
  },
  {
   "cell_type": "markdown",
   "metadata": {},
   "source": [
    "__Comment: Is the following cell a new function 'predict', to predict future data points in the DataFrame you created?__"
   ]
  },
  {
   "cell_type": "code",
   "execution_count": 18,
   "metadata": {
    "collapsed": false
   },
   "outputs": [],
   "source": [
    "y = lm.predict(x)"
   ]
  },
  {
   "cell_type": "code",
   "execution_count": 22,
   "metadata": {
    "collapsed": false
   },
   "outputs": [
    {
     "data": {
      "image/png": "[encoded data removed]",
      "text/plain": [
       "<matplotlib.figure.Figure at 0x114881080>"
      ]
     },
     "metadata": {},
     "output_type": "display_data"
    }
   ],
   "source": [
    "plt.plot(weather_data_quest_new_col_names['wind_speed'], weather_data_quest_new_col_names['gust_speed'], linestyle='' , marker='o')\n",
    "\n",
    "plt.xlabel('Wind Speed')\n",
    "plt.ylabel('Gust speed')\n",
    "plt.title('wind vs gust speed')\n",
    "\n",
    "plt.plot(x, y, color='red', linewidth=3)\n",
    "\n",
    "plt.show()"
   ]
  },
  {
   "cell_type": "markdown",
   "metadata": {},
   "source": [
    "##Nico - I have fixed the code up until here, after this you should be good to fix it yourself"
   ]
  },
  {
   "cell_type": "markdown",
   "metadata": {
    "collapsed": true
   },
   "source": [
    "__Comment: Is the above code bite a stats test? It looks like you could find some neat correlation between Gust and Win speed. I suggest using a test for normal distribution, like the Shapiro Wilks test, to find the p value. If p < 0.05, you can reject the null hypothesis--that your data *is* normally disributed. You can then choose a test for statistical significance of your data if it is or is not normally distributed.  This link may be helpful: http://nullege.com/codes/search/scipy.stats.shapiro __\n"
   ]
  },
  {
   "cell_type": "markdown",
   "metadata": {
    "collapsed": true
   },
   "source": [
    "__Comment: Are you trying to make a fit line? Your motives for this operation are a bit unclear, which makes it harder to suggest fixes/alternatives.__"
   ]
  },
  {
   "cell_type": "code",
   "execution_count": null,
   "metadata": {
    "collapsed": false
   },
   "outputs": [],
   "source": [
    "lm_1 = sm.formula.ols(formula='temperature(C) ~ relative_humidity(%)', data= weather_data_quest).fit()\n",
    "\n",
    "lm_2 = sm.formula.ols(formula='temperature(C) ~ gust_speed(m/s) + wind_speed(m/s) + relative_humidity(%) + rainfall(mm)', data= weather_data_quest ).fit()\n",
    "\n",
    "print(lm_1.rsquared_adj, lm_2.rsquared_adj)"
   ]
  },
  {
   "cell_type": "markdown",
   "metadata": {
    "collapsed": true
   },
   "source": [
    "__Comment: Overall, great use of headers for different sections of your script. Adding a markdown cell below each header would help the reader get a sense of what's about to happen in the upcoming code cells.__\n",
    "\n",
    "__Creating a framework for your script before you start coding, which includes questions would help determine necessary script items and would increase readability, reusability, and reduce script issues. This roadmap can then be used as an outline of #comments within which code can be inserted. __\n",
    "\n",
    "__When doing stats test: starting with a question you want answered, that only stats test(s), can answer for you, would help you choose the best tests for your specific data set and the variables relationships.__"
   ]
  },
  {
   "cell_type": "code",
   "execution_count": null,
   "metadata": {
    "collapsed": true
   },
   "outputs": [],
   "source": []
  },
  {
   "cell_type": "code",
   "execution_count": null,
   "metadata": {
    "collapsed": true
   },
   "outputs": [],
   "source": []
  }
 ],
 "metadata": {
  "kernelspec": {
   "display_name": "Python 3",
   "language": "python",
   "name": "python3"
  },
  "language_info": {
   "codemirror_mode": {
    "name": "ipython",
    "version": 3
   },
   "file_extension": ".py",
   "mimetype": "text/x-python",
   "name": "python",
   "nbconvert_exporter": "python",
   "pygments_lexer": "ipython3",
   "version": "3.4.3"
  }
 },
 "nbformat": 4,
 "nbformat_minor": 0
}
